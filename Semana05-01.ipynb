{
 "cells": [
  {
   "cell_type": "markdown",
   "id": "e0561fbe",
   "metadata": {},
   "source": [
    "# SEMANA 05\n",
    "\n",
    "Ramos Sanchez Smith Seleni\n",
    "\n",
    "Temas:\n",
    "1. Colecciones de datos\n",
    "2. Estructuras decisivas y estructuras repetitivas\n",
    "3. Clases y objetos\n",
    "4. Funciones"
   ]
  },
  {
   "cell_type": "markdown",
   "id": "4a82b36d",
   "metadata": {},
   "source": [
    "1. Colecciones de datos"
   ]
  },
  {
   "cell_type": "code",
   "execution_count": 7,
   "id": "2cdd9dde",
   "metadata": {},
   "outputs": [
    {
     "name": "stdout",
     "output_type": "stream",
     "text": [
      "bonifacio\n"
     ]
    },
    {
     "ename": "TypeError",
     "evalue": "'tuple' object does not support item assignment",
     "output_type": "error",
     "traceback": [
      "\u001b[1;31m---------------------------------------------------------------------------\u001b[0m",
      "\u001b[1;31mTypeError\u001b[0m                                 Traceback (most recent call last)",
      "Input \u001b[1;32mIn [7]\u001b[0m, in \u001b[0;36m<cell line: 5>\u001b[1;34m()\u001b[0m\n\u001b[0;32m      3\u001b[0m \u001b[38;5;28mprint\u001b[39m(aula[\u001b[38;5;241m0\u001b[39m])\n\u001b[0;32m      4\u001b[0m \u001b[38;5;66;03m#Para ubicar\u001b[39;00m\n\u001b[1;32m----> 5\u001b[0m aula[\u001b[38;5;241m1\u001b[39m]\u001b[38;5;241m=\u001b[39m\u001b[38;5;124m\"\u001b[39m\u001b[38;5;124mFernandez\u001b[39m\u001b[38;5;124m\"\u001b[39m\n\u001b[0;32m      6\u001b[0m aula[\u001b[38;5;241m1\u001b[39m]\n\u001b[0;32m      7\u001b[0m \u001b[38;5;66;03m#para agregar\u001b[39;00m\n",
      "\u001b[1;31mTypeError\u001b[0m: 'tuple' object does not support item assignment"
     ]
    }
   ],
   "source": [
    "aula = \"bonifacio\", \"Huertas\",\"Fernandez\"\n",
    "#Para mostrar datos\n",
    "print(aula[0])\n",
    "#Para ubicar\n",
    "aula[1]=\"Fernandez\"\n",
    "aula[1]\n",
    "#para agregar\n",
    "aula.append(\"Mamani\")\n",
    "#para eliminar\n",
    "aula.remove(\"Huertas\")"
   ]
  },
  {
   "cell_type": "code",
   "execution_count": 3,
   "id": "5b549367",
   "metadata": {},
   "outputs": [
    {
     "data": {
      "text/plain": [
       "3"
      ]
     },
     "execution_count": 3,
     "metadata": {},
     "output_type": "execute_result"
    }
   ],
   "source": [
    "len(aula)\n",
    "#Para saber los elementos"
   ]
  },
  {
   "cell_type": "code",
   "execution_count": 4,
   "id": "f67e9f34",
   "metadata": {},
   "outputs": [
    {
     "name": "stdout",
     "output_type": "stream",
     "text": [
      "bonifacio\n",
      "Huertas\n",
      "Fernandez\n"
     ]
    }
   ],
   "source": [
    "for alumno in aula:\n",
    "    print(alumno)"
   ]
  },
  {
   "cell_type": "code",
   "execution_count": 10,
   "id": "cb316cc3",
   "metadata": {},
   "outputs": [
    {
     "data": {
      "text/plain": [
       "('Huertas', 'Bravo', 'Bonifacio', 'Caballero')"
      ]
     },
     "execution_count": 10,
     "metadata": {},
     "output_type": "execute_result"
    }
   ],
   "source": [
    "#Para tuplas siempre ( )\n",
    "tupla_aula =('Huertas','Bravo','Bonifacio','Caballero')\n",
    "tupla_aula"
   ]
  },
  {
   "cell_type": "code",
   "execution_count": 11,
   "id": "9f2c2dc6",
   "metadata": {},
   "outputs": [
    {
     "data": {
      "text/plain": [
       "{'Bonifacio', 'Caballero', 'Huertas'}"
      ]
     },
     "execution_count": 11,
     "metadata": {},
     "output_type": "execute_result"
    }
   ],
   "source": [
    "#para conjuntos siempre { }\n",
    "conjunto_aula ={'Huertas','Bonifacio','Caballero'}\n",
    "conjunto_aula"
   ]
  },
  {
   "cell_type": "code",
   "execution_count": 12,
   "id": "b80c9b59",
   "metadata": {},
   "outputs": [
    {
     "name": "stdout",
     "output_type": "stream",
     "text": [
      "Huertas\n",
      "Caballero\n",
      "Bonifacio\n"
     ]
    }
   ],
   "source": [
    "#se puede recorrer con for\n",
    "for alumno in conjunto_aula:\n",
    "    print(alumno)"
   ]
  },
  {
   "cell_type": "code",
   "execution_count": 13,
   "id": "b81546b8",
   "metadata": {},
   "outputs": [
    {
     "ename": "SyntaxError",
     "evalue": "invalid syntax (1229767549.py, line 2)",
     "output_type": "error",
     "traceback": [
      "\u001b[1;36m  Input \u001b[1;32mIn [13]\u001b[1;36m\u001b[0m\n\u001b[1;33m    conjunto_aula[2]devolvería error\u001b[0m\n\u001b[1;37m                    ^\u001b[0m\n\u001b[1;31mSyntaxError\u001b[0m\u001b[1;31m:\u001b[0m invalid syntax\n"
     ]
    }
   ],
   "source": [
    "#para conjuntos no se puede acceder por posición\n",
    "conjunto_aula[2]devolvería error"
   ]
  },
  {
   "cell_type": "code",
   "execution_count": 14,
   "id": "5fcd339f",
   "metadata": {},
   "outputs": [
    {
     "data": {
      "text/plain": [
       "3"
      ]
     },
     "execution_count": 14,
     "metadata": {},
     "output_type": "execute_result"
    }
   ],
   "source": [
    "#para saber la cantidad de elementos\n",
    "len(conjunto_aula)"
   ]
  },
  {
   "cell_type": "code",
   "execution_count": 15,
   "id": "1fcfcee9",
   "metadata": {},
   "outputs": [
    {
     "data": {
      "text/plain": [
       "{'Bonifacio', 'Caballero', 'Huertas', 'Paye'}"
      ]
     },
     "execution_count": 15,
     "metadata": {},
     "output_type": "execute_result"
    }
   ],
   "source": [
    "#Para agregar elemento\n",
    "conjunto_aula.add(\"Paye\")\n",
    "conjunto_aula"
   ]
  },
  {
   "cell_type": "code",
   "execution_count": 19,
   "id": "48e418a6",
   "metadata": {},
   "outputs": [
    {
     "data": {
      "text/plain": [
       "{'Huertas', 'Paye'}"
      ]
     },
     "execution_count": 19,
     "metadata": {},
     "output_type": "execute_result"
    }
   ],
   "source": [
    "#Para eliminar elemento\n",
    "conjunto_aula.remove(\"Bonifacio\")\n",
    "conjunto_aula"
   ]
  },
  {
   "cell_type": "code",
   "execution_count": 20,
   "id": "fc690a3d",
   "metadata": {},
   "outputs": [
    {
     "data": {
      "text/plain": [
       "{2: 'Huertas', '1': 'Bravo', 'dos': 'Bonifacio', '3': 'Caballero', '0': 'Paye'}"
      ]
     },
     "execution_count": 20,
     "metadata": {},
     "output_type": "execute_result"
    }
   ],
   "source": [
    "#Diccionarios\n",
    "diccionario_aula ={2:'Huertas','1':'Bravo','dos':'Bonifacio','3':'Caballero','0':'Paye'}\n",
    "diccionario_aula"
   ]
  },
  {
   "cell_type": "code",
   "execution_count": 21,
   "id": "69d545cc",
   "metadata": {},
   "outputs": [
    {
     "data": {
      "text/plain": [
       "'Paye'"
      ]
     },
     "execution_count": 21,
     "metadata": {},
     "output_type": "execute_result"
    }
   ],
   "source": [
    "#Para imprimir un valor indicando el índice que le corresponde\n",
    "diccionario_aula['0']"
   ]
  },
  {
   "cell_type": "code",
   "execution_count": 22,
   "id": "80f3cb3a",
   "metadata": {},
   "outputs": [
    {
     "data": {
      "text/plain": [
       "'Bonifacio'"
      ]
     },
     "execution_count": 22,
     "metadata": {},
     "output_type": "execute_result"
    }
   ],
   "source": [
    "#Para imprimir un valor indicando el índice\n",
    "diccionario_aula['dos']"
   ]
  },
  {
   "cell_type": "code",
   "execution_count": 23,
   "id": "fe67a133",
   "metadata": {},
   "outputs": [
    {
     "data": {
      "text/plain": [
       "{2: 'Huertas',\n",
       " '1': 'Bravo',\n",
       " 'dos': 'Bonifacio',\n",
       " '3': 'Caballero',\n",
       " '0': 'Paye',\n",
       " '20': 'Velez'}"
      ]
     },
     "execution_count": 23,
     "metadata": {},
     "output_type": "execute_result"
    }
   ],
   "source": [
    "#Para añadir elementos al diccionario, indice y valor, se indica primero su indice\n",
    "diccionario_aula['20']= \"Velez\"\n",
    "diccionario_aula"
   ]
  },
  {
   "cell_type": "code",
   "execution_count": 24,
   "id": "d0c51cc4",
   "metadata": {},
   "outputs": [
    {
     "data": {
      "text/plain": [
       "{'1': 'Bravo',\n",
       " 'dos': 'Bonifacio',\n",
       " '3': 'Caballero',\n",
       " '0': 'Paye',\n",
       " '20': 'Velez'}"
      ]
     },
     "execution_count": 24,
     "metadata": {},
     "output_type": "execute_result"
    }
   ],
   "source": [
    "#Para eliminar un valor se utiliza pop()\n",
    "diccionario_aula.pop(2)\n",
    "diccionario_aula"
   ]
  },
  {
   "cell_type": "code",
   "execution_count": 25,
   "id": "923d7aa3",
   "metadata": {},
   "outputs": [
    {
     "data": {
      "text/plain": [
       "{'1': 'Bravo', '3': 'Caballero', '0': 'Paye', '20': 'Velez'}"
      ]
     },
     "execution_count": 25,
     "metadata": {},
     "output_type": "execute_result"
    }
   ],
   "source": [
    "#Para eliminar utilizando del()\n",
    "del(diccionario_aula[\"dos\"])\n",
    "diccionario_aula"
   ]
  },
  {
   "cell_type": "code",
   "execution_count": 28,
   "id": "a8a9ec07",
   "metadata": {},
   "outputs": [
    {
     "name": "stdout",
     "output_type": "stream",
     "text": [
      "1 Bravo\n",
      "3 Caballero\n",
      "0 Paye\n",
      "20 Velez\n"
     ]
    }
   ],
   "source": [
    "#Para obtener el indice y el valor de cada elemento utilizamos items()\n",
    "for indice, valor in diccionario_aula.items():\n",
    "    print(indice, valor)"
   ]
  },
  {
   "cell_type": "code",
   "execution_count": 29,
   "id": "4960deee",
   "metadata": {},
   "outputs": [],
   "source": [
    "# 1.5. Ejercicio\n",
    "# Dado una lista de [AMES, ARTEAGA , BARRIOS , BONIFACIO, BRAVO, CABALLERO , CAÑAZACA, FERNANDEZ , FLORES , GARCIA , HERRERA , HUERTA , HUERTAS, JIMENEZ , MAMANI , MANCILLA, PABLO , PAYE , PEÑA , PIZANGO, RAMOS, SANCHEZ,SEVILLANO, TINOCO, TORRES , VALDIVIESO, VELEZ , VILLANUEVA , ZUÑIGA]\n",
    "# Diseñar un código que muestre si el apellido de un estudiante (Ingresado por teclado) forma parte de la lista"
   ]
  },
  {
   "cell_type": "code",
   "execution_count": 42,
   "id": "cee61e66",
   "metadata": {},
   "outputs": [
    {
     "name": "stdout",
     "output_type": "stream",
     "text": [
      "Ingrese apellidoBARRIOS\n",
      "Pertenece al  aula\n"
     ]
    },
    {
     "ename": "NameError",
     "evalue": "name 'true' is not defined",
     "output_type": "error",
     "traceback": [
      "\u001b[1;31m---------------------------------------------------------------------------\u001b[0m",
      "\u001b[1;31mNameError\u001b[0m                                 Traceback (most recent call last)",
      "Input \u001b[1;32mIn [42]\u001b[0m, in \u001b[0;36m<cell line: 6>\u001b[1;34m()\u001b[0m\n\u001b[0;32m      7\u001b[0m     \u001b[38;5;28;01mif\u001b[39;00m alumno \u001b[38;5;241m==\u001b[39m apellido:\n\u001b[0;32m      8\u001b[0m         \u001b[38;5;28mprint\u001b[39m(\u001b[38;5;124m'\u001b[39m\u001b[38;5;124mPertenece al  aula\u001b[39m\u001b[38;5;124m'\u001b[39m)\n\u001b[1;32m----> 9\u001b[0m         alumno_pertenece \u001b[38;5;241m=\u001b[39m \u001b[43mtrue\u001b[49m\n\u001b[0;32m     10\u001b[0m         \u001b[38;5;28;01mbreak\u001b[39;00m\n\u001b[0;32m     11\u001b[0m \u001b[38;5;28;01mif\u001b[39;00m \u001b[38;5;129;01mnot\u001b[39;00m alumno_pertenece:\n",
      "\u001b[1;31mNameError\u001b[0m: name 'true' is not defined"
     ]
    }
   ],
   "source": [
    "apellido=input(\"Ingrese apellido\")\n",
    "aula=[\"AMES\", \"ARTEAGA\" , \"BARRIOS\" , \"BONIFACIO\", \"BRAVO\", \"CABALLERO\" , \"CAÑAZACA\", \"FERNANDEZ\" , \"FLORES\" , \"GARCIA\" , \"HERRERA\" , \"HUERTA\" , \"HUERTAS\", \"JIMENEZ\" , \"MAMANI\" , \"MANCILLA\", \"PABLO\" , \"PAYE\" , \"PEÑA\" , \"PIZANGO\", \"RAMOS\", \"SANCHEZ\",\"SEVILLANO\", \"TINOCO\", \"TORRES\" , \"VALDIVIESO\", \"VELEZ\" , \"VILLANUEVA\" , \"ZUÑIGA\"]\n",
    "\n",
    "alumno_pertenece = False\n",
    "\n",
    "for alumno in aula:\n",
    "    if alumno == apellido:\n",
    "        print('Pertenece al  aula')\n",
    "        alumno_pertenece = true\n",
    "        break\n",
    "if not alumno_pertenece:\n",
    "    print('No pertence al aula')"
   ]
  }
 ],
 "metadata": {
  "kernelspec": {
   "display_name": "Python 3 (ipykernel)",
   "language": "python",
   "name": "python3"
  },
  "language_info": {
   "codemirror_mode": {
    "name": "ipython",
    "version": 3
   },
   "file_extension": ".py",
   "mimetype": "text/x-python",
   "name": "python",
   "nbconvert_exporter": "python",
   "pygments_lexer": "ipython3",
   "version": "3.9.12"
  }
 },
 "nbformat": 4,
 "nbformat_minor": 5
}
