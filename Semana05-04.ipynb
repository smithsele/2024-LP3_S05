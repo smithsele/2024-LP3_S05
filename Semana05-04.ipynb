{
 "cells": [
  {
   "cell_type": "markdown",
   "id": "99af1eda",
   "metadata": {},
   "source": [
    "# SEMANA 5\n",
    "Ramos Sanchez Smith Seleni\n",
    "\n",
    "Temas:\n",
    "1. Colecciones de datos\n",
    "2. Estructuras decisivas y estructuras repetitivas\n",
    "3. Funciones\n",
    "4. Clases y objetos"
   ]
  },
  {
   "cell_type": "markdown",
   "id": "af0511bd",
   "metadata": {},
   "source": [
    "4. Clases y objetos"
   ]
  },
  {
   "cell_type": "code",
   "execution_count": 1,
   "id": "601fbb85",
   "metadata": {},
   "outputs": [],
   "source": [
    "#Problema 01\n",
    "#Crear la siguiente clase:\n",
    "#-Clase: Persona\n",
    "#-Atributos: nombre, apellido, fecha_nacimiento,dni"
   ]
  },
  {
   "cell_type": "code",
   "execution_count": 2,
   "id": "2e91c66d",
   "metadata": {},
   "outputs": [],
   "source": [
    "class Persona:\n",
    "    nombre = \"\"\n",
    "    apellidos = \"\"\n",
    "    dni = \"\"\n",
    "    talla = 0"
   ]
  },
  {
   "cell_type": "code",
   "execution_count": 3,
   "id": "a5e770cf",
   "metadata": {},
   "outputs": [],
   "source": [
    "#Creacion del objeto persona1\n",
    "persona1 = Persona()"
   ]
  },
  {
   "cell_type": "code",
   "execution_count": 4,
   "id": "a3c0631f",
   "metadata": {},
   "outputs": [],
   "source": [
    "#Asignamos valores al objeto\n",
    "persona1.nombre =\"Dharma\"\n",
    "persona1.apellidos =\"Bonifacio Toledo\"\n",
    "persona1.dni = \"12345678\"\n",
    "persona1.talla = 1.68"
   ]
  },
  {
   "cell_type": "code",
   "execution_count": 5,
   "id": "f3b8aeb5",
   "metadata": {},
   "outputs": [
    {
     "name": "stdout",
     "output_type": "stream",
     "text": [
      "persona1\n",
      "Nombre: Dharma\n",
      "Apellidos: Bonifacio Toledo\n",
      "DNI: 12345678\n",
      "Talla: 1.68\n"
     ]
    }
   ],
   "source": [
    "print(\"persona1\")\n",
    "print(f\"Nombre: {persona1.nombre}\")\n",
    "print(f\"Apellidos: {persona1.apellidos}\")\n",
    "print(f\"DNI: {persona1.dni}\")\n",
    "print(f\"Talla: {persona1.talla}\")"
   ]
  },
  {
   "cell_type": "code",
   "execution_count": null,
   "id": "bf06e52f",
   "metadata": {},
   "outputs": [],
   "source": [
    "#Para utilizar constructores utilizamos: __init__\n",
    "#¿Qué es un construtor?\n",
    "#Es un método\n",
    "#Sirve para inicializar valores a una clase      "
   ]
  },
  {
   "cell_type": "code",
   "execution_count": null,
   "id": "bdfe30fc",
   "metadata": {},
   "outputs": [],
   "source": [
    "#Problema 02:\n",
    "#Crear la siguiente clase y utilizar constructores:\n",
    "#Clase:Curso\n",
    "#Atributos: Codigo, nombre, horas, creditos"
   ]
  },
  {
   "cell_type": "code",
   "execution_count": 8,
   "id": "9fba322e",
   "metadata": {},
   "outputs": [],
   "source": [
    "class curso:\n",
    "    def __init__(self, codigo, nombre, horas, creditos):\n",
    "        self.codigo = codigo\n",
    "        self.nombre = nombre\n",
    "        self.horas = horas\n",
    "        self.creditos = creditos\n",
    "    def mostrar_datos_curso(self):\n",
    "        print(f\"Curso: {self.nombre}\")\n",
    "        print(f\"Código: {self.codigo}\")\n",
    "        print(f\"Horas: {self.horas}\")\n",
    "        print(f\"Créditos: {self.creditos}\")"
   ]
  },
  {
   "cell_type": "code",
   "execution_count": 9,
   "id": "11f212d5",
   "metadata": {},
   "outputs": [],
   "source": [
    "#Creamos el objeto curso1 y le mandamos parámetros\n",
    "curso1= curso(\"C0501\",\"LP3\",6,3)"
   ]
  },
  {
   "cell_type": "code",
   "execution_count": 10,
   "id": "429f30e6",
   "metadata": {},
   "outputs": [
    {
     "name": "stdout",
     "output_type": "stream",
     "text": [
      "Curso: LP3\n",
      "Código: C0501\n",
      "Horas: 6\n",
      "Créditos: 3\n"
     ]
    }
   ],
   "source": [
    "#Mostramos los datos completos del curso, ejecutando el método mostrar_datos_curso\n",
    "curso1.mostrar_datos_curso();"
   ]
  },
  {
   "cell_type": "code",
   "execution_count": null,
   "id": "6b3671ab",
   "metadata": {},
   "outputs": [],
   "source": []
  }
 ],
 "metadata": {
  "kernelspec": {
   "display_name": "Python 3 (ipykernel)",
   "language": "python",
   "name": "python3"
  },
  "language_info": {
   "codemirror_mode": {
    "name": "ipython",
    "version": 3
   },
   "file_extension": ".py",
   "mimetype": "text/x-python",
   "name": "python",
   "nbconvert_exporter": "python",
   "pygments_lexer": "ipython3",
   "version": "3.9.12"
  }
 },
 "nbformat": 4,
 "nbformat_minor": 5
}
