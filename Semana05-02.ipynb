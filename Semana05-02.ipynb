{
 "cells": [
  {
   "cell_type": "markdown",
   "id": "93a37a0b",
   "metadata": {},
   "source": [
    "# SEMANA 5\n",
    "\n",
    "Ramos Sanchez Smith Seleni\n",
    "\n",
    "Temas:\n",
    "1. Colecciones de datos\n",
    "2. Estructuras decisivas y estructuras repetitivas\n",
    "3. Clases y objetos\n",
    "4. Funciones"
   ]
  },
  {
   "cell_type": "markdown",
   "id": "150ba4a0",
   "metadata": {},
   "source": [
    "2. Estructuras decisivas y estructuras repetitivas"
   ]
  },
  {
   "cell_type": "code",
   "execution_count": 3,
   "id": "e96f1323",
   "metadata": {},
   "outputs": [
    {
     "name": "stdout",
     "output_type": "stream",
     "text": [
      "Producto 1: 500\n",
      "Producto 2: 200\n",
      "Producto 3: 300\n",
      "El total a pagar es: 900.0\n"
     ]
    }
   ],
   "source": [
    "#if\n",
    "#prolema: Dado el precio de 3 productos ingresados por el teclado,\n",
    "#Aplicar un descuento de 10% si la venta en mayor o igual a 1000\n",
    "p1=float(input(\"Producto 1: \"))\n",
    "p2=float(input(\"Producto 2: \"))\n",
    "p3=float(input(\"Producto 3: \"))\n",
    "total= p1 + p2 + p3\n",
    "if total>=1000:\n",
    "    total*=0.9\n",
    "    print(f\"El total a pagar es: {total}\")"
   ]
  },
  {
   "cell_type": "code",
   "execution_count": 4,
   "id": "c489a295",
   "metadata": {},
   "outputs": [
    {
     "name": "stdout",
     "output_type": "stream",
     "text": [
      "Ingrese nombre a buscarbravo\n",
      "Si esta en la lista de LP3\n"
     ]
    }
   ],
   "source": [
    "#problema usando if-else\n",
    "# Diseñar un código que muestre si el apellido de un estudiante (Ingresado por teclado) forma parte de la lista\n",
    "LP3=[\"AMES\", \"ARTEAGA\" , \"BARRIOS\" , \"BONIFACIO\", \"BRAVO\", \"CABALLERO\" , \"CAÑAZACA\", \"FERNANDEZ\" , \"FLORES\" , \"GARCIA\" , \"HERRERA\" , \"HUERTA\" , \"HUERTAS\", \"JIMENEZ\" , \"MAMANI\" , \"MANCILLA\", \"PABLO\" , \"PAYE\" , \"PEÑA\" , \"PIZANGO\", \"RAMOS\", \"SANCHEZ\",\"SEVILLANO\", \"TINOCO\", \"TORRES\" , \"VALDIVIESO\", \"VELEZ\" , \"VILLANUEVA\" , \"ZUÑIGA\"]\n",
    "apellido = input(\"Ingrese nombre a buscar \" )\n",
    "if apellido.upper() in LP3:\n",
    "    print(\"Si esta en la lista de LP3\")\n",
    "else:\n",
    "    print(\"No esta en la lista\")"
   ]
  },
  {
   "cell_type": "code",
   "execution_count": 10,
   "id": "dfffe884",
   "metadata": {},
   "outputs": [
    {
     "name": "stdout",
     "output_type": "stream",
     "text": [
      "Ingrese la cantidad 1000\n",
      "Categoría A\n"
     ]
    }
   ],
   "source": [
    "#Problema 02\n",
    "#Ingresando por teclado, categorizar que tipo de empleado es.\n",
    "ventas = float(input(\"Ingrese la cantidad \"))\n",
    "if ventas <0:\n",
    "    print(\"Datos erroneos\")\n",
    "else:\n",
    "    if ventas <=1000:\n",
    "        print (\"Categoría A\")\n",
    "    else:\n",
    "        if ventas <=2000:\n",
    "            print (\"Categoría B\")\n",
    "        else:\n",
    "            if ventas <=5000:\n",
    "                print (\"Categoría C\")\n",
    "            else:\n",
    "                print (\"Categoría D\")\n",
    "                "
   ]
  },
  {
   "cell_type": "code",
   "execution_count": 19,
   "id": "0b41af2c",
   "metadata": {},
   "outputs": [
    {
     "name": "stdout",
     "output_type": "stream",
     "text": [
      "Ingrese ventas 6000\n",
      "Categoría D\n"
     ]
    }
   ],
   "source": [
    "#Problema 02.1\n",
    "#Consideramos ejercicio anterior usando elif\n",
    "venta = float(input(\"Ingrese ventas \"))\n",
    "if venta < 0:\n",
    "    print (\"Datos erroneos\")\n",
    "elif venta <= 1000:\n",
    "    print (\"Categoría A\")\n",
    "elif venta <= 2000:\n",
    "    print (\"categoria B\")\n",
    "elif venta <= 5000:\n",
    "    print (\"Categoría C\")\n",
    "else:\n",
    "    print(\"Categoría D\")"
   ]
  },
  {
   "cell_type": "code",
   "execution_count": 20,
   "id": "0012bbb2",
   "metadata": {},
   "outputs": [
    {
     "name": "stdout",
     "output_type": "stream",
     "text": [
      "Barrios\n",
      "Sevillano\n",
      "Zuñiga\n",
      "Paye\n"
     ]
    }
   ],
   "source": [
    "#Mostrar los elementos de una lista utilizando for\n",
    "aula = ['Barrios', 'Sevillano','Zuñiga', 'Paye']\n",
    "#Por cada alumno que está en la lista, imprime cada alumno\n",
    "for alumno in aula:\n",
    "    print(alumno)"
   ]
  },
  {
   "cell_type": "code",
   "execution_count": 25,
   "id": "0949bfa2",
   "metadata": {},
   "outputs": [
    {
     "name": "stdout",
     "output_type": "stream",
     "text": [
      "Ingrese cadena universidad nacional\n",
      "u\n",
      "n\n",
      "i\n",
      "v\n",
      "e\n",
      "r\n",
      "s\n",
      "i\n",
      "d\n",
      "a\n",
      "d\n",
      " \n",
      "n\n",
      "a\n",
      "c\n",
      "i\n",
      "o\n",
      "n\n",
      "a\n",
      "l\n"
     ]
    }
   ],
   "source": [
    "#Dado una cadena ingresada por teclado,\n",
    "#Mostrar cada caracter de la cadena utilizando la estructura for\n",
    "cadena = input(\"Ingrese cadena \")\n",
    "for caracter in cadena:\n",
    "    print(caracter)"
   ]
  },
  {
   "cell_type": "code",
   "execution_count": 28,
   "id": "afc92495",
   "metadata": {},
   "outputs": [
    {
     "data": {
      "text/plain": [
       "range(0, 5)"
      ]
     },
     "execution_count": 28,
     "metadata": {},
     "output_type": "execute_result"
    }
   ],
   "source": [
    "#Para generar rangos de numeros utilizamos range()\n",
    "range(5)\n",
    "#[0,5>"
   ]
  },
  {
   "cell_type": "code",
   "execution_count": 26,
   "id": "5c598324",
   "metadata": {},
   "outputs": [
    {
     "name": "stdout",
     "output_type": "stream",
     "text": [
      "5\n",
      "6\n",
      "7\n",
      "8\n",
      "9\n",
      "10\n"
     ]
    }
   ],
   "source": [
    "#Problema 3\n",
    "#Imprimir el numero de 0 al 10. utilizando for\n",
    "for numero in range(5,11):\n",
    "    print (numero)"
   ]
  },
  {
   "cell_type": "code",
   "execution_count": 29,
   "id": "0734d6a0",
   "metadata": {},
   "outputs": [
    {
     "name": "stdout",
     "output_type": "stream",
     "text": [
      "10\n",
      "12\n",
      "14\n",
      "16\n",
      "18\n",
      "20\n"
     ]
    }
   ],
   "source": [
    "#Imprimir los números de 10 a 20 utilizando for\n",
    "#range(desde, hasta, de cuanto en cuanto)\n",
    "for numero in range(10,22,2):\n",
    "    print(numero)"
   ]
  },
  {
   "cell_type": "code",
   "execution_count": 30,
   "id": "a08852de",
   "metadata": {},
   "outputs": [
    {
     "name": "stdout",
     "output_type": "stream",
     "text": [
      "1\n",
      "2\n",
      "3\n",
      "4\n",
      "5\n",
      "6\n",
      "7\n",
      "8\n",
      "9\n",
      "10\n"
     ]
    }
   ],
   "source": [
    "#while\n",
    "#conjunto de acciones mientras se cumple la condicion\n",
    "numero = 1\n",
    "fin =10\n",
    "while numero <= fin:\n",
    "    print (numero)\n",
    "    numero+=1"
   ]
  },
  {
   "cell_type": "code",
   "execution_count": null,
   "id": "08fb7a71",
   "metadata": {},
   "outputs": [],
   "source": []
  }
 ],
 "metadata": {
  "kernelspec": {
   "display_name": "Python 3 (ipykernel)",
   "language": "python",
   "name": "python3"
  },
  "language_info": {
   "codemirror_mode": {
    "name": "ipython",
    "version": 3
   },
   "file_extension": ".py",
   "mimetype": "text/x-python",
   "name": "python",
   "nbconvert_exporter": "python",
   "pygments_lexer": "ipython3",
   "version": "3.9.12"
  }
 },
 "nbformat": 4,
 "nbformat_minor": 5
}
