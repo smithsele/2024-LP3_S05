{
 "cells": [
  {
   "cell_type": "markdown",
   "id": "8e7e166b",
   "metadata": {},
   "source": [
    "# SEMANA 5\n",
    "Ramos Sanchez Smith Seleni\n",
    "\n",
    "Temas:\n",
    "1. Colecciones de datos\n",
    "2. Estructuras decisivas y estructuras repetitivas\n",
    "3. Funciones\n",
    "4. Clases y objetos"
   ]
  },
  {
   "cell_type": "markdown",
   "id": "ed39e722",
   "metadata": {},
   "source": [
    "3. Funciones"
   ]
  },
  {
   "cell_type": "code",
   "execution_count": 2,
   "id": "a14d88ea",
   "metadata": {},
   "outputs": [],
   "source": [
    "#También conocidos como métodos\n",
    "#Métodos Vacíos\n",
    "#Métodos que devuelven valor\n",
    "#Métodos que reciben valores\n",
    "#Métodos que reciben y devuelven valores"
   ]
  },
  {
   "cell_type": "code",
   "execution_count": 3,
   "id": "1f2cf291",
   "metadata": {},
   "outputs": [],
   "source": [
    "#3.1 Métodos vacíos\n",
    "#Explicación: No reciben valores (parámetros)\n",
    "def saludo():\n",
    "    print (\"Bienvenidos al curso de LP3\")\n",
    "    print(\"***Python***\")"
   ]
  },
  {
   "cell_type": "code",
   "execution_count": 4,
   "id": "8859fb82",
   "metadata": {},
   "outputs": [
    {
     "name": "stdout",
     "output_type": "stream",
     "text": [
      "Bienvenidos al curso de LP3\n",
      "***Python***\n"
     ]
    }
   ],
   "source": [
    "saludo()"
   ]
  },
  {
   "cell_type": "code",
   "execution_count": 14,
   "id": "ab4a10d9",
   "metadata": {},
   "outputs": [],
   "source": [
    "#3.2 Métodos que reciben valores\n",
    "def factorial(numero):\n",
    "    fac = 1\n",
    "    for i in range(1,numero+1):\n",
    "        fac*=i\n",
    "        #fac=fac*i\n",
    "    print (f\"El factorial es: {fac}\")"
   ]
  },
  {
   "cell_type": "code",
   "execution_count": 16,
   "id": "be06b339",
   "metadata": {},
   "outputs": [
    {
     "name": "stdout",
     "output_type": "stream",
     "text": [
      "Ingresar numero: 6\n",
      "El factorial es: 720\n"
     ]
    }
   ],
   "source": [
    "#Para el factorial se restringe a ser entero\n",
    "numero= int(input(\"Ingresar numero: \"))\n",
    "factorial(numero)"
   ]
  },
  {
   "cell_type": "code",
   "execution_count": 17,
   "id": "2f331f33",
   "metadata": {},
   "outputs": [],
   "source": [
    "#3.3 Métodos que devuelven valores\n",
    "def saludo2():\n",
    "    mensaje = \"Bienvenidos a LP3\"\n",
    "    return mensaje"
   ]
  },
  {
   "cell_type": "code",
   "execution_count": 18,
   "id": "1274ebc3",
   "metadata": {},
   "outputs": [
    {
     "name": "stdout",
     "output_type": "stream",
     "text": [
      "Bienvenidos a LP3\n"
     ]
    }
   ],
   "source": [
    "print(saludo2())"
   ]
  },
  {
   "cell_type": "code",
   "execution_count": 20,
   "id": "9be98b9d",
   "metadata": {},
   "outputs": [],
   "source": [
    "#3.4 Métodos de que reciben y devuelven valores\n",
    "def factorial2(numero):\n",
    "    fac=1\n",
    "    for i in range(1,numero+1):\n",
    "        fac*=i\n",
    "    return fac"
   ]
  },
  {
   "cell_type": "code",
   "execution_count": 22,
   "id": "ad63d0fe",
   "metadata": {},
   "outputs": [
    {
     "name": "stdout",
     "output_type": "stream",
     "text": [
      "Numero: 5\n",
      "El factorial de 5 es 120\n"
     ]
    }
   ],
   "source": [
    "numero=int(input(\"Numero: \"))\n",
    "print(f\"El factorial de {numero} es {factorial2(numero)}\")"
   ]
  }
 ],
 "metadata": {
  "kernelspec": {
   "display_name": "Python 3 (ipykernel)",
   "language": "python",
   "name": "python3"
  },
  "language_info": {
   "codemirror_mode": {
    "name": "ipython",
    "version": 3
   },
   "file_extension": ".py",
   "mimetype": "text/x-python",
   "name": "python",
   "nbconvert_exporter": "python",
   "pygments_lexer": "ipython3",
   "version": "3.9.12"
  }
 },
 "nbformat": 4,
 "nbformat_minor": 5
}
